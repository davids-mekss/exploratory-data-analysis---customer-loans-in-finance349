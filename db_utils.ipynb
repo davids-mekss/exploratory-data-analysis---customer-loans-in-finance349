{
 "cells": [
  {
   "cell_type": "code",
   "execution_count": 11,
   "metadata": {},
   "outputs": [
    {
     "ename": "TypeError",
     "evalue": "DataTransform.convert_string_to_date() got an unexpected keyword argument 'format'",
     "output_type": "error",
     "traceback": [
      "\u001b[1;31m---------------------------------------------------------------------------\u001b[0m",
      "\u001b[1;31mTypeError\u001b[0m                                 Traceback (most recent call last)",
      "Cell \u001b[1;32mIn[11], line 17\u001b[0m\n\u001b[0;32m      7\u001b[0m dataframe_transform_instance \u001b[38;5;241m=\u001b[39m DataTransform(dataframe)\n\u001b[0;32m      9\u001b[0m \u001b[38;5;66;03m# not working so far, getting a value error\u001b[39;00m\n\u001b[0;32m     10\u001b[0m \u001b[38;5;66;03m# could check all unique values in the columns\u001b[39;00m\n\u001b[0;32m     11\u001b[0m \u001b[38;5;66;03m# should check if null values cause an error\u001b[39;00m\n\u001b[1;32m   (...)\u001b[0m\n\u001b[0;32m     15\u001b[0m \n\u001b[0;32m     16\u001b[0m \u001b[38;5;66;03m# try with only columns which have 100% non null values like only with issue_date\u001b[39;00m\n\u001b[1;32m---> 17\u001b[0m dataframe_converted \u001b[38;5;241m=\u001b[39m \u001b[43mdataframe_transform_instance\u001b[49m\u001b[38;5;241;43m.\u001b[39;49m\u001b[43mconvert_string_to_date\u001b[49m\u001b[43m(\u001b[49m\u001b[43m[\u001b[49m\u001b[38;5;124;43m'\u001b[39;49m\u001b[38;5;124;43missue_date\u001b[39;49m\u001b[38;5;124;43m'\u001b[39;49m\u001b[43m]\u001b[49m\u001b[43m,\u001b[49m\u001b[43m \u001b[49m\u001b[38;5;28;43mformat\u001b[39;49m\u001b[43m \u001b[49m\u001b[38;5;241;43m=\u001b[39;49m\u001b[43m \u001b[49m\u001b[38;5;124;43m'\u001b[39;49m\u001b[38;5;124;43m%\u001b[39;49m\u001b[38;5;124;43mb-\u001b[39;49m\u001b[38;5;124;43m%\u001b[39;49m\u001b[38;5;124;43mY\u001b[39;49m\u001b[38;5;124;43m'\u001b[39;49m\u001b[43m)\u001b[49m\n\u001b[0;32m     18\u001b[0m \u001b[38;5;28mprint\u001b[39m(dataframe_converted)\n",
      "\u001b[1;31mTypeError\u001b[0m: DataTransform.convert_string_to_date() got an unexpected keyword argument 'format'"
     ]
    }
   ],
   "source": [
    "from db_utils3 import DataTransform, load_local_data_to_dataframe, RDSDatabaseConnector\n",
    "\n",
    "\n",
    "file_path = 'loan_payments_data.csv'\n",
    "dataframe = load_local_data_to_dataframe(file_path)\n",
    "\n",
    "dataframe_transform_instance = DataTransform(dataframe)\n",
    "\n",
    "# not working so far, getting a value error\n",
    "# could check all unique values in the columns\n",
    "# should check if null values cause an error\n",
    "# last_payment_date has 0.001346 missing values, next_payment_date has 60%, last_credit_pull_date has 0.000129\n",
    "\n",
    "#dataframe_converted = dataframe_transform_instance.convert_string_to_date(['issue_date', 'earliest_credit_line', 'last_payment_date', 'next_payment_date', 'last_credit_pull_date'])\n",
    "\n",
    "# try with only columns which have 100% non null values like only with issue_date\n",
    "dataframe_converted = dataframe_transform_instance.convert_string_to_date(['issue_date'])\n",
    "print(dataframe_converted)"
   ]
  },
  {
   "cell_type": "markdown",
   "metadata": {},
   "source": []
  }
 ],
 "metadata": {
  "kernelspec": {
   "display_name": "base",
   "language": "python",
   "name": "python3"
  },
  "language_info": {
   "codemirror_mode": {
    "name": "ipython",
    "version": 3
   },
   "file_extension": ".py",
   "mimetype": "text/x-python",
   "name": "python",
   "nbconvert_exporter": "python",
   "pygments_lexer": "ipython3",
   "version": "3.11.5"
  }
 },
 "nbformat": 4,
 "nbformat_minor": 2
}
